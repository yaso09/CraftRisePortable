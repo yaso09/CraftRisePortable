{
  "nbformat": 4,
  "nbformat_minor": 0,
  "metadata": {
    "colab": {
      "provenance": [],
      "authorship_tag": "ABX9TyN30l6p8hYy5+/KoRNZq/tK",
      "include_colab_link": true
    },
    "kernelspec": {
      "name": "python3",
      "display_name": "Python 3"
    },
    "language_info": {
      "name": "python"
    }
  },
  "cells": [
    {
      "cell_type": "markdown",
      "metadata": {
        "id": "view-in-github",
        "colab_type": "text"
      },
      "source": [
        "<a href=\"https://colab.research.google.com/github/yaso09/CraftRisePortable/blob/main/Mython.ipynb\" target=\"_parent\"><img src=\"https://colab.research.google.com/assets/colab-badge.svg\" alt=\"Open In Colab\"/></a>"
      ]
    },
    {
      "cell_type": "markdown",
      "source": [
        "# Mython\n",
        "Matematik kurallarını Python içinde kullanın.\n",
        "\n",
        "```bash\n",
        "git clone https://github.com/yaso09/mython.git\n",
        "cd mython\n",
        "```\n",
        "\n",
        "## Derlemek\n",
        "\n",
        "Python'un 3.x sürümüne ve PyPi'ye ihtiyaç duyar.\n",
        "\n",
        "```bash\n",
        "sh build\n",
        "```\n",
        "\n",
        "## Kullanım\n",
        "\n",
        "Mython, başlangıçta çalıştıracağı bir ana dala ihtiyaç duyar.\n",
        "\n"
      ],
      "metadata": {
        "id": "IwG6vOFXe1Zt"
      }
    },
    {
      "cell_type": "code",
      "source": [
        "fn main() {\n",
        "\n",
        "print(\"Merhaba anne!\")\n",
        "\n",
        "}"
      ],
      "metadata": {
        "id": "5f9dzfpClx4_"
      },
      "execution_count": null,
      "outputs": []
    }
  ]
}